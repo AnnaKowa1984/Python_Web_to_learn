{
 "cells": [
  {
   "cell_type": "code",
   "execution_count": null,
   "id": "1f5578f4",
   "metadata": {
    "vscode": {
     "languageId": "plaintext"
    }
   },
   "outputs": [],
   "source": [
    "# Write the program that asks the user for a text and displays how many letters it has. \n",
    "\n",
    "text = input(\"Write some text: \")\n",
    "lenght = len(text)\n",
    "print(\"Your text has\", lenght, \"letters\".)"
   ]
  },
  {
   "cell_type": "code",
   "execution_count": null,
   "id": "f0dec4b4",
   "metadata": {
    "vscode": {
     "languageId": "plaintext"
    }
   },
   "outputs": [],
   "source": []
  }
 ],
 "metadata": {
  "kernelspec": {
   "display_name": "Python 3 (ipykernel)",
   "language": "python",
   "name": "python3"
  },
  "language_info": {
   "codemirror_mode": {
    "name": "ipython",
    "version": 3
   },
   "file_extension": ".py",
   "mimetype": "text/x-python",
   "name": "python",
   "nbconvert_exporter": "python",
   "pygments_lexer": "ipython3",
   "version": "3.10.1"
  }
 },
 "nbformat": 4,
 "nbformat_minor": 5
}
