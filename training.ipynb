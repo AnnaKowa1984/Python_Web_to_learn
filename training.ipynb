{
 "cells": [
  {
   "cell_type": "code",
   "execution_count": 2,
   "id": "1f5578f4",
   "metadata": {},
   "outputs": [
    {
     "name": "stdout",
     "output_type": "stream",
     "text": [
      "Your text has 12 letters.\n"
     ]
    }
   ],
   "source": [
    "# Task 1.1. \n",
    "# Write the program that asks the user for a text and displays how many letters it has. \n",
    "\n",
    "text = input(\"Write some text: \")\n",
    "lenght = len(text)\n",
    "print(\"Your text has\", lenght, \"letters.\")"
   ]
  },
  {
   "cell_type": "code",
   "execution_count": 5,
   "id": "f0dec4b4",
   "metadata": {},
   "outputs": [
    {
     "name": "stdout",
     "output_type": "stream",
     "text": [
      "Words in your text have an average of 2.727272727272727 characters.\n",
      "The text is simple and esay to understand.\n"
     ]
    }
   ],
   "source": [
    "# Task 1.2. \n",
    "# Write a program that checks the complexity of articles and entries, \n",
    "# thanks to which the work of journalists can be parameterized and automatically determined whether \n",
    "# they write texts that are simple band easy to understand.\n",
    "# Count what is the average lenght of words and display the result.\n",
    "\n",
    "text = input(\"Enter text: \")\n",
    "\n",
    "words = len(text.split())\n",
    "# print (words)\n",
    "\n",
    "characters = len(text)\n",
    "# print(characters)\n",
    "\n",
    "average_word_lenght = (characters - (words - 1)) / words\n",
    "# print(average_word_lenght)\n",
    "\n",
    "print(\"Words in your text have an average of\", average_word_lenght, \"characters.\")\n",
    "\n",
    "if average_word_lenght <= 6:\n",
    "    print(\"The text is simple and esay to understand.\")\n",
    "else:\n",
    "    print(\"The text can be difficult to read and understand.\")"
   ]
  },
  {
   "cell_type": "code",
   "execution_count": 15,
   "id": "7329afea",
   "metadata": {},
   "outputs": [
    {
     "name": "stdout",
     "output_type": "stream",
     "text": [
      "1.0 + -3.3 = -2.3\n",
      "The sum of the numbers is:  -2.3\n"
     ]
    }
   ],
   "source": [
    "# Task 2.1. \n",
    "# Write a calculator that asks for two numbers and calculates their sum.\n",
    "# The calculator cannot be used for anything other than a number.\n",
    "\n",
    "number_1 = float(input(\"Enter the first number: \"))\n",
    "number_2 = float(input(\"Enter the second number: \"))\n",
    "\n",
    "sum_ = number_1 + number_2\n",
    "print(number_1, \"+\", number_2, \"=\", sum_)\n",
    "print(\"The sum of the numbers is: \", sum_)"
   ]
  },
  {
   "cell_type": "code",
   "execution_count": null,
   "id": "ab13abf5",
   "metadata": {},
   "outputs": [
    {
     "name": "stdout",
     "output_type": "stream",
     "text": [
      "ania_kowalska\n"
     ]
    }
   ],
   "source": [
    "# Task 2.2. \n",
    "# Write a program that asks the user for his name and then generates\n",
    "# a username for him in lower case and no spaces.\n",
    "# a) If the user introduces himself in many words (e.g. first and last name),\n",
    "#    then spaces should be REPLACED with underscores. For example, I introduce myself as \n",
    "#    \"Jan Smith\" and the username jan_smith is generated.\n",
    "# b) To convert spaces to underscores, you must use a method that is NOT shown in this lesson\n",
    "#    - your task is to search for it using Ctrl+Space\n",
    "\n",
    "name = input(\"Enter your name: \")\n",
    "\n",
    "name_l = (name.lower())\n",
    "\n",
    "print(name_l.replace(\" \", \"_\"))"
   ]
  },
  {
   "cell_type": "code",
   "execution_count": null,
   "id": "a1b17b58",
   "metadata": {},
   "outputs": [
    {
     "name": "stdout",
     "output_type": "stream",
     "text": [
      "The character is not a letter or a number.\n"
     ]
    }
   ],
   "source": [
    "# Task 2.3.\n",
    "# Write a program that asks for one single character and then checks if it's a letter or something else\n",
    "\n",
    "character = input(\"Enter a one single character: \")\n",
    "\n",
    "if character.isalpha() is True:\n",
    "    print (\"The character is a letter.\")\n",
    "elif character.isdigit() is True:\n",
    "    print (\"The character is a number.\")\n",
    "else:\n",
    "    print(\"The character is not a letter or a number.\")"
   ]
  },
  {
   "cell_type": "code",
   "execution_count": 7,
   "id": "e6920b65",
   "metadata": {},
   "outputs": [
    {
     "name": "stdout",
     "output_type": "stream",
     "text": [
      "The character is not a letter or a number.\n"
     ]
    }
   ],
   "source": [
    "# Task 2.4.\n",
    "# Based on the solution of the previous exercise (Task 2.3.), modify the program so that if the user enters several characters, then display an error that the user should enter only one character. Otherwise, the program should work as before.\n",
    "\n",
    "character = input(\"Enter a one single character: \")\n",
    "\n",
    "if len(character) == 0 or len(character) >= 2:\n",
    "    print(\"You entered the wrong number of characters. Please try again.\")\n",
    "else:  \n",
    "    if character.isalpha() is True:\n",
    "        print (\"The character is a letter.\")\n",
    "    elif character.isdigit() is True:\n",
    "        print (\"The character is a number.\")\n",
    "    else:\n",
    "        print(\"The character is not a letter or a number.\")"
   ]
  },
  {
   "cell_type": "code",
   "execution_count": 38,
   "id": "1299fd0f",
   "metadata": {},
   "outputs": [
    {
     "name": "stdout",
     "output_type": "stream",
     "text": [
      "You were supposed to enter only one single character.\n",
      "True\n",
      "The character is a whitespace.\n"
     ]
    }
   ],
   "source": [
    "# Task 2.5.\n",
    "# Write a program that asks for one single character and then displays whether it is a number, letter, white space, or special character.\n",
    "# Whitespace is space, tab and newline.\n",
    "\n",
    "char = input(\"Enter one single character: \")\n",
    "\n",
    "if len(char) == 1:\n",
    "    if char.isalpha():\n",
    "        print (\"The character is a letter.\")\n",
    "    elif char.isdigit():\n",
    "        print(\"The character is a number.\")\n",
    "    elif char.isspace():\n",
    "        print(\"The character is a whitespace.\")\n",
    "    else:\n",
    "        print(\"The character is a special character.\")\n",
    "else:\n",
    "    print(\"You were supposed to enter only one single character.\")\n",
    "\n",
    "\n",
    "print(\"\\n\".isspace())\n",
    "\n",
    "value = \"\\n\"\n",
    "if value.isspace():\n",
    "    print(\"The character is a whitespace.\")"
   ]
  },
  {
   "cell_type": "code",
   "execution_count": 37,
   "id": "f7b7123d",
   "metadata": {},
   "outputs": [
    {
     "name": "stdout",
     "output_type": "stream",
     "text": [
      "Your BMI is:  23.661438615467823\n",
      "Is normal.\n"
     ]
    }
   ],
   "source": [
    "# Task 2.6.\n",
    "# BMI calculator. \n",
    "# The user enters weight and height, and the program displays the result with a comment. BMI is calculated as weight divided by height in meters squared. If your BMI is between 18.5 and 25, write that it is normal. Otherwise write that it is underweight or overweight, and for BMI > 30 obese.\n",
    "\n",
    "weight = float(input(\"Enter your weihght in kilogram: \"))\n",
    "height = float(input(\"Enter your height in meter: \"))\n",
    "\n",
    "BMI = weight/(height ** 2)\n",
    "print(\"Your BMI is: \", BMI)\n",
    "\n",
    "if BMI <= 0:\n",
    "    print(\"Entered value is wrong. Try again.\")\n",
    "elif BMI < 18.5:\n",
    "    print(\"Is underweight.\")\n",
    "elif BMI <= 25:\n",
    "    print(\"Is normal.\")\n",
    "elif BMI < 30:\n",
    "    print(\"Is overweight.\")   \n",
    "else:\n",
    "    print(\"Is obese.\")\n"
   ]
  },
  {
   "cell_type": "code",
   "execution_count": 3,
   "id": "603fb7b0",
   "metadata": {},
   "outputs": [
    {
     "ename": "SyntaxError",
     "evalue": "expected ':' (3002288085.py, line 6)",
     "output_type": "error",
     "traceback": [
      "\u001b[1;36m  Cell \u001b[1;32mIn[3], line 6\u001b[1;36m\u001b[0m\n\u001b[1;33m    if age_of_dog.isnumeric()\u001b[0m\n\u001b[1;37m                             ^\u001b[0m\n\u001b[1;31mSyntaxError\u001b[0m\u001b[1;31m:\u001b[0m expected ':'\n"
     ]
    }
   ],
   "source": [
    "# Task 2.7. \n",
    "# Dog age calculator. \n",
    "# Write a program that calculates the age in human years of a dog given by the user. \n",
    "#The first two years of a dog's life are always approximately 10.5 human years (1 dog year = 10.5 human years, 2 dog years = 21 human years), and each subsequent year of a dog's life is approximately 4 human years.\n",
    "\n",
    "try:\n",
    "    age_of_dog = int(input(\"Enter your dog's age: \"))\n",
    "    if age_of_dog == 1 or age_of_dog == 2: \n",
    "        human_years = age_of_dog * 10.5\n",
    "    # elif age_of_dog > 2:\n",
    "    #     human_years = 2 * 10.5 + (age_of_dog - 2) * 4\n",
    "    # if age_of_dog >= 25:\n",
    "    #     print(\"Are you sure your dog lives that long?\") \n",
    "    else:\n",
    "        print(\"You entered wrong value. \")\n",
    "except:\n",
    "    print(\"If your dog were human he would be \", human_years, \"years old now.\")\n",
    "\n",
    "\n",
    "# przy wartości 0 błąd NameError\n"
   ]
  },
  {
   "cell_type": "code",
   "execution_count": 40,
   "id": "1d364604",
   "metadata": {},
   "outputs": [
    {
     "name": "stdout",
     "output_type": "stream",
     "text": [
      "fizz\n",
      "1\n",
      "2\n",
      "fizz\n",
      "4\n",
      "buzz\n",
      "fizz\n",
      "7\n",
      "8\n",
      "fizz\n",
      "buzz\n"
     ]
    }
   ],
   "source": [
    "# Task 2.8.\n",
    "# Write a program that displays the numbers 0, 1, 2, 3, 4 up to 10 in consecutive lines.\n",
    "# Then expand the program so that if the number is divisible by 3 print \"fizz\" \n",
    "# and if it is divisible by 5 print \"buzz\"\n",
    "\n",
    "for i in range(11):\n",
    "    if i % 3 == 0:\n",
    "        print(\"fizz\")\n",
    "    elif i % 5 == 0:\n",
    "        print(\"buzz\")\n",
    "    else:\n",
    "        print(i)\n"
   ]
  },
  {
   "cell_type": "code",
   "execution_count": 1,
   "id": "a6143269",
   "metadata": {},
   "outputs": [
    {
     "name": "stdout",
     "output_type": "stream",
     "text": [
      "j - letter\n",
      "k - letter\n",
      "[ - special character\n",
      "' - special character\n",
      "d - letter\n",
      "7 - number\n",
      "8 - number\n",
      "3 - number\n",
      "  - whitespace\n",
      "$ - special character\n",
      "# - special character\n",
      "# - special character\n",
      "l - letter\n",
      "; - special character\n",
      "l - letter\n",
      "l - letter\n",
      "l - letter\n"
     ]
    }
   ],
   "source": [
    "# Task 2.9.\n",
    "# Write a program that asks the user for a password, \n",
    "# then for each character it displays what type of character it is \n",
    "#(letter vs number vs whitespace vs special character).\n",
    "\n",
    "password = input(\"Enter password: \")\n",
    "\n",
    "for i in password:\n",
    "    if i.isalpha():\n",
    "        kod = \"letter\"\n",
    "    elif i.isnumeric():\n",
    "        kod = \"number\"\n",
    "    elif i.isspace():\n",
    "        kod = \"whitespace\"\n",
    "    else:\n",
    "        kod = \"special character\"\n",
    "    print(i, \"-\", kod )"
   ]
  },
  {
   "cell_type": "code",
   "execution_count": null,
   "id": "99a49c7a",
   "metadata": {},
   "outputs": [],
   "source": [
    "# Task 2.10.\n",
    "# # Write a program that anonymises statistical data in texts by replacing all numbers with x's.\n",
    "\n",
    "text = input(\"Enter your text: \")\n",
    "\n",
    "for i in text:\n",
    "    if text.isnumeric().repleace()"
   ]
  },
  {
   "cell_type": "code",
   "execution_count": null,
   "id": "628a5967",
   "metadata": {},
   "outputs": [],
   "source": [
    "# zad 1.2 nie zliczać kropek, przecinków i innych znaków specjalnych\n",
    "# zad 2.1 rozwijać kalkulator o inne funkcje\n",
    "# powtórzyć komunikaty błędów z zadania M02L04 i M02L05\n",
    "\n",
    "# 2.7 do zrobienia\n",
    "# 2.10 do zrobienia"
   ]
  },
  {
   "cell_type": "code",
   "execution_count": null,
   "id": "1aadefa4",
   "metadata": {},
   "outputs": [],
   "source": []
  },
  {
   "cell_type": "code",
   "execution_count": null,
   "id": "939a7c3b",
   "metadata": {},
   "outputs": [],
   "source": []
  }
 ],
 "metadata": {
  "kernelspec": {
   "display_name": "Python 3",
   "language": "python",
   "name": "python3"
  },
  "language_info": {
   "codemirror_mode": {
    "name": "ipython",
    "version": 3
   },
   "file_extension": ".py",
   "mimetype": "text/x-python",
   "name": "python",
   "nbconvert_exporter": "python",
   "pygments_lexer": "ipython3",
   "version": "3.10.1"
  },
  "vscode": {
   "interpreter": {
    "hash": "4af242e407393657f1e5d1d695bd2a7d10cfd8a25cfaa3ebb9bc61e2c346bd0e"
   }
  }
 },
 "nbformat": 4,
 "nbformat_minor": 5
}
