{
 "cells": [
  {
   "cell_type": "code",
   "execution_count": 2,
   "id": "1f5578f4",
   "metadata": {},
   "outputs": [
    {
     "name": "stdout",
     "output_type": "stream",
     "text": [
      "Your text has 12 letters.\n"
     ]
    }
   ],
   "source": [
    "# Task 1.1. \n",
    "# Write the program that asks the user for a text and displays how many letters it has. \n",
    "\n",
    "text = input(\"Write some text: \")\n",
    "lenght = len(text)\n",
    "print(\"Your text has\", lenght, \"letters.\")"
   ]
  },
  {
   "cell_type": "code",
   "execution_count": 5,
   "id": "f0dec4b4",
   "metadata": {},
   "outputs": [
    {
     "name": "stdout",
     "output_type": "stream",
     "text": [
      "Words in your text have an average of 2.727272727272727 characters.\n",
      "The text is simple and esay to understand.\n"
     ]
    }
   ],
   "source": [
    "# Task 1.2. \n",
    "# Write a program that checks the complexity of articles and entries, \n",
    "# thanks to which the work of journalists can be parameterized and automatically determined whether \n",
    "# they write texts that are simple band easy to understand.\n",
    "# Count what is the average lenght of words and display the result.\n",
    "\n",
    "text = input(\"Enter text: \")\n",
    "\n",
    "words = len(text.split())\n",
    "# print (words)\n",
    "\n",
    "characters = len(text)\n",
    "# print(characters)\n",
    "\n",
    "average_word_lenght = (characters - (words - 1)) / words\n",
    "# print(average_word_lenght)\n",
    "\n",
    "print(\"Words in your text have an average of\", average_word_lenght, \"characters.\")\n",
    "\n",
    "if average_word_lenght <= 6:\n",
    "    print(\"The text is simple and esay to understand.\")\n",
    "else:\n",
    "    print(\"The text can be difficult to read and understand.\")"
   ]
  },
  {
   "cell_type": "code",
   "execution_count": 15,
   "id": "7329afea",
   "metadata": {},
   "outputs": [
    {
     "name": "stdout",
     "output_type": "stream",
     "text": [
      "1.0 + -3.3 = -2.3\n",
      "The sum of the numbers is:  -2.3\n"
     ]
    }
   ],
   "source": [
    "# Task 2.1. \n",
    "# Write a calculator that asks for two numbers and calculates their sum.\n",
    "# The calculator cannot be used for anything other than a number.\n",
    "\n",
    "number_1 = float(input(\"Enter the first number: \"))\n",
    "number_2 = float(input(\"Enter the second number: \"))\n",
    "\n",
    "sum_ = number_1 + number_2\n",
    "print(number_1, \"+\", number_2, \"=\", sum_)\n",
    "print(\"The sum of the numbers is: \", sum_)"
   ]
  },
  {
   "cell_type": "code",
   "execution_count": 20,
   "id": "ab13abf5",
   "metadata": {},
   "outputs": [
    {
     "name": "stdout",
     "output_type": "stream",
     "text": [
      "ania_kowalska\n"
     ]
    }
   ],
   "source": [
    "# Task 2.2. \n",
    "# Write a program that asks the user for his name and then generates\n",
    "# a username for him in lower case and no spaces.\n",
    "# a) If the user introduces himself in many words (e.g. first and last name),\n",
    "#    then spaces should be REPLACED with underscores. For example, I introdece myself as \n",
    "#    \"Jan Smith\" and the username jan_smith is generated.\n",
    "# b) To convert spaces to underscores, you must use a mothod that is NOT shown in this lesson\n",
    "#    - your task is to search for it using Ctrl+Space\n",
    "\n",
    "name = input(\"Enter your name: \")\n",
    "\n",
    "name_l = (name.lower())\n",
    "\n",
    "print(name_l.replace(\" \", \"_\"))"
   ]
  },
  {
   "cell_type": "code",
   "execution_count": 2,
   "id": "a1b17b58",
   "metadata": {},
   "outputs": [
    {
     "name": "stdout",
     "output_type": "stream",
     "text": [
      "The character is not a letter or a number.\n"
     ]
    }
   ],
   "source": [
    "# Task 2.3.\n",
    "# Write a program that asks for one single character and then checks if it's a letter or something else\n",
    "\n",
    "character = input(\"Enter a one single character: \")\n",
    "\n",
    "if character is character.isalpha():\n",
    "    print (\"The character is a letter.\")\n",
    "elif character is character.isdigit():\n",
    "    print (\"The character is a number.\")\n",
    "else:\n",
    "    print(\"The character is not a letter or a number.\")"
   ]
  },
  {
   "cell_type": "code",
   "execution_count": 17,
   "id": "628a5967",
   "metadata": {},
   "outputs": [],
   "source": [
    "# zad 1.2 nie zliczać kropek, przecinków i innych znaków specjalnych\n",
    "# zad 2.1 rozwijać kalkulator o inne funkcje\n",
    "# powtórzyć komunikaty błędów z zadania M02L04 i M02L05"
   ]
  },
  {
   "cell_type": "code",
   "execution_count": null,
   "id": "1aadefa4",
   "metadata": {},
   "outputs": [],
   "source": []
  },
  {
   "cell_type": "code",
   "execution_count": null,
   "id": "939a7c3b",
   "metadata": {},
   "outputs": [],
   "source": []
  }
 ],
 "metadata": {
  "kernelspec": {
   "display_name": "Python 3 (ipykernel)",
   "language": "python",
   "name": "python3"
  },
  "language_info": {
   "codemirror_mode": {
    "name": "ipython",
    "version": 3
   },
   "file_extension": ".py",
   "mimetype": "text/x-python",
   "name": "python",
   "nbconvert_exporter": "python",
   "pygments_lexer": "ipython3",
   "version": "3.10.1"
  }
 },
 "nbformat": 4,
 "nbformat_minor": 5
}
